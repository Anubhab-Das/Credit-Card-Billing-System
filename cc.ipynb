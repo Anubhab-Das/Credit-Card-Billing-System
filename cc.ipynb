{
 "cells": [
  {
   "cell_type": "code",
   "execution_count": 4,
   "id": "dc41eb2a-9ae4-4800-a204-b44fde26bc21",
   "metadata": {},
   "outputs": [],
   "source": [
    "import findspark"
   ]
  },
  {
   "cell_type": "code",
   "execution_count": 5,
   "id": "ad2dd520-d09a-4f30-8bd5-fbf463ec6296",
   "metadata": {},
   "outputs": [
    {
     "ename": "ValueError",
     "evalue": "Couldn't find Spark, make sure SPARK_HOME env is set or Spark is in an expected location (e.g. from homebrew installation).",
     "output_type": "error",
     "traceback": [
      "\u001b[0;31m---------------------------------------------------------------------------\u001b[0m",
      "\u001b[0;31mValueError\u001b[0m                                Traceback (most recent call last)",
      "\u001b[0;32m/var/folders/x5/6fp67zjd64z667lk219bp3f00000gp/T/ipykernel_68003/3142208592.py\u001b[0m in \u001b[0;36m<module>\u001b[0;34m\u001b[0m\n\u001b[0;32m----> 1\u001b[0;31m \u001b[0mfindspark\u001b[0m\u001b[0;34m.\u001b[0m\u001b[0minit\u001b[0m\u001b[0;34m(\u001b[0m\u001b[0;34m)\u001b[0m\u001b[0;34m\u001b[0m\u001b[0;34m\u001b[0m\u001b[0m\n\u001b[0m",
      "\u001b[0;32m~/Downloads/ENTER/lib/python3.7/site-packages/findspark.py\u001b[0m in \u001b[0;36minit\u001b[0;34m(spark_home, python_path, edit_rc, edit_profile)\u001b[0m\n\u001b[1;32m    127\u001b[0m \u001b[0;34m\u001b[0m\u001b[0m\n\u001b[1;32m    128\u001b[0m     \u001b[0;32mif\u001b[0m \u001b[0;32mnot\u001b[0m \u001b[0mspark_home\u001b[0m\u001b[0;34m:\u001b[0m\u001b[0;34m\u001b[0m\u001b[0;34m\u001b[0m\u001b[0m\n\u001b[0;32m--> 129\u001b[0;31m         \u001b[0mspark_home\u001b[0m \u001b[0;34m=\u001b[0m \u001b[0mfind\u001b[0m\u001b[0;34m(\u001b[0m\u001b[0;34m)\u001b[0m\u001b[0;34m\u001b[0m\u001b[0;34m\u001b[0m\u001b[0m\n\u001b[0m\u001b[1;32m    130\u001b[0m \u001b[0;34m\u001b[0m\u001b[0m\n\u001b[1;32m    131\u001b[0m     \u001b[0;32mif\u001b[0m \u001b[0;32mnot\u001b[0m \u001b[0mpython_path\u001b[0m\u001b[0;34m:\u001b[0m\u001b[0;34m\u001b[0m\u001b[0;34m\u001b[0m\u001b[0m\n",
      "\u001b[0;32m~/Downloads/ENTER/lib/python3.7/site-packages/findspark.py\u001b[0m in \u001b[0;36mfind\u001b[0;34m()\u001b[0m\n\u001b[1;32m     34\u001b[0m     \u001b[0;32mif\u001b[0m \u001b[0;32mnot\u001b[0m \u001b[0mspark_home\u001b[0m\u001b[0;34m:\u001b[0m\u001b[0;34m\u001b[0m\u001b[0;34m\u001b[0m\u001b[0m\n\u001b[1;32m     35\u001b[0m         raise ValueError(\n\u001b[0;32m---> 36\u001b[0;31m             \u001b[0;34m\"Couldn't find Spark, make sure SPARK_HOME env is set\"\u001b[0m\u001b[0;34m\u001b[0m\u001b[0;34m\u001b[0m\u001b[0m\n\u001b[0m\u001b[1;32m     37\u001b[0m             \u001b[0;34m\" or Spark is in an expected location (e.g. from homebrew installation).\"\u001b[0m\u001b[0;34m\u001b[0m\u001b[0;34m\u001b[0m\u001b[0m\n\u001b[1;32m     38\u001b[0m         )\n",
      "\u001b[0;31mValueError\u001b[0m: Couldn't find Spark, make sure SPARK_HOME env is set or Spark is in an expected location (e.g. from homebrew installation)."
     ]
    }
   ],
   "source": [
    "findspark.init()"
   ]
  },
  {
   "cell_type": "code",
   "execution_count": 10,
   "id": "8f8aa84e-f8c6-4759-9933-e2ab0edce9e3",
   "metadata": {},
   "outputs": [],
   "source": [
    "import pyspark"
   ]
  },
  {
   "cell_type": "code",
   "execution_count": 11,
   "id": "df262b1c-10ad-4e61-8f01-7061c2d59452",
   "metadata": {},
   "outputs": [],
   "source": [
    "from pyspark.sql import SparkSession"
   ]
  },
  {
   "cell_type": "code",
   "execution_count": 12,
   "id": "a934561c-7beb-4e7e-a692-847992ee9a9a",
   "metadata": {},
   "outputs": [
    {
     "name": "stderr",
     "output_type": "stream",
     "text": [
      "WARNING: An illegal reflective access operation has occurred\n",
      "WARNING: Illegal reflective access by org.apache.spark.unsafe.Platform (file:/Users/A_Das/Downloads/ENTER/lib/python3.7/site-packages/pyspark/jars/spark-unsafe_2.12-3.2.0.jar) to constructor java.nio.DirectByteBuffer(long,int)\n",
      "WARNING: Please consider reporting this to the maintainers of org.apache.spark.unsafe.Platform\n",
      "WARNING: Use --illegal-access=warn to enable warnings of further illegal reflective access operations\n",
      "WARNING: All illegal access operations will be denied in a future release\n",
      "Using Spark's default log4j profile: org/apache/spark/log4j-defaults.properties\n",
      "Setting default log level to \"WARN\".\n",
      "To adjust logging level use sc.setLogLevel(newLevel). For SparkR, use setLogLevel(newLevel).\n",
      "21/12/27 23:53:20 WARN NativeCodeLoader: Unable to load native-hadoop library for your platform... using builtin-java classes where applicable\n"
     ]
    }
   ],
   "source": [
    "spark = SparkSession.builder.appName('demo').getOrCreate()"
   ]
  },
  {
   "cell_type": "code",
   "execution_count": 13,
   "id": "3dc32e05-17b1-473e-80ce-938926f29968",
   "metadata": {},
   "outputs": [
    {
     "data": {
      "text/html": [
       "\n",
       "            <div>\n",
       "                <p><b>SparkSession - in-memory</b></p>\n",
       "                \n",
       "        <div>\n",
       "            <p><b>SparkContext</b></p>\n",
       "\n",
       "            <p><a href=\"http://192.168.0.3:4040\">Spark UI</a></p>\n",
       "\n",
       "            <dl>\n",
       "              <dt>Version</dt>\n",
       "                <dd><code>v3.2.0</code></dd>\n",
       "              <dt>Master</dt>\n",
       "                <dd><code>local[*]</code></dd>\n",
       "              <dt>AppName</dt>\n",
       "                <dd><code>demo</code></dd>\n",
       "            </dl>\n",
       "        </div>\n",
       "        \n",
       "            </div>\n",
       "        "
      ],
      "text/plain": [
       "<pyspark.sql.session.SparkSession at 0x7fa2165f6790>"
      ]
     },
     "execution_count": 13,
     "metadata": {},
     "output_type": "execute_result"
    }
   ],
   "source": [
    "spark"
   ]
  },
  {
   "cell_type": "code",
   "execution_count": 14,
   "id": "4dabede3-b925-43ce-8ac9-1846f3ddc0c9",
   "metadata": {},
   "outputs": [
    {
     "name": "stderr",
     "output_type": "stream",
     "text": [
      "                                                                                \r"
     ]
    }
   ],
   "source": [
    "df_branch = spark.read.csv('Branch.csv',header=True,inferSchema=True)"
   ]
  },
  {
   "cell_type": "code",
   "execution_count": 15,
   "id": "04609634-22a6-40e1-9490-0e0625533dd5",
   "metadata": {},
   "outputs": [
    {
     "name": "stdout",
     "output_type": "stream",
     "text": [
      "+-----------+-----------------+--------------------+-------------+------------+----------+-------------+\n",
      "|BRANCH_CODE|      BRANCH_NAME|       BRANCH_STREET|  BRANCH_CITY|BRANCH_STATE|BRANCH_ZIP| BRANCH_PHONE|\n",
      "+-----------+-----------------+--------------------+-------------+------------+----------+-------------+\n",
      "|       6300|  SBI_Brownsville|       Heather Plaza|  Brownsville|          TX|     78521|1800-200-2535|\n",
      "|       9526|    SBI_Littleton|  Noble Embers Ridge|    Littleton|          CO|     80126|1800-500-7121|\n",
      "|       3422|   SBI_Caguas_BPB|   Blue Pioneer Bend|       Caguas|          PR|       734|1800-300-7858|\n",
      "|       8300|   SBI_San Marcos|       Little Common|   San Marcos|          CA|     92069|1800-700-6985|\n",
      "|       9527|   SBI_Caguas_CRV|  Crystal River Mall|       Caguas|          PR|       729|1800-500-5485|\n",
      "|       3420|      SBI_Passaic|Sleepy Quail Prom...|      Passaic|          NJ|      7055|1800-300-8524|\n",
      "|       6301|    SBI_Caguas_HC|     High Concession|       Caguas|          PR|       732|1800-200-5685|\n",
      "|       8301|     SBI_Lawrence|  Foggy Forest Plaza|     Lawrence|          MA|      1841|1800-700-8925|\n",
      "|       9528|    SBI_Caguas_QS|      Quaking Street|       Caguas|          PR|       727|1800-500-5425|\n",
      "|       3421|     SBI_Stafford|Harvest Beacon Plaza|     Stafford|          VA|     22554|1800-300-3758|\n",
      "|       6302|    SBI_Caguas_SW|         Stony Woods|       Caguas|          PR|       731|1800-200-5685|\n",
      "|       3428|  SBI_San Antonio|Jagged Embers By-...|  San Antonio|          TX|     78227|1800-300-1758|\n",
      "|       9529|   SBI_Caguas_IOG|    Iron Oak Gardens|       Caguas|          PR|       730|1800-500-6325|\n",
      "|       3430|  SBI_Pico Rivera|    Hazy Pony Square|  Pico Rivera|          CA|     90660|1800-300-6459|\n",
      "|       8302|      SBI_Fontana|        Burning Glen|      Fontana|          CA|     92336|1800-700-7415|\n",
      "|       3431|    SBI_Caguas_IP|           Iron Port|       Caguas|          PR|       728|1800-300-3472|\n",
      "|       9530|       SBI_Taylor|          Noble Pike|       Taylor|          MI|     48180|1800-500-2578|\n",
      "|       8305|     SBI_Martinez|Hazy Butterfly Ci...|     Martinez|          CA|     94553|1800-700-3692|\n",
      "|       6304|   SBI_Caguas_RTB|    Red Treasure Bay|       Caguas|          PR|       725|1800-200-5876|\n",
      "|       9430|SBI_West New York|           Old Route|West New York|          NJ|      7093|1800-500-4925|\n",
      "+-----------+-----------------+--------------------+-------------+------------+----------+-------------+\n",
      "only showing top 20 rows\n",
      "\n"
     ]
    }
   ],
   "source": [
    "df_branch.show()"
   ]
  },
  {
   "cell_type": "code",
   "execution_count": 16,
   "id": "347ceecd-0f52-426f-a18a-311a9a8f6b3f",
   "metadata": {},
   "outputs": [
    {
     "name": "stdout",
     "output_type": "stream",
     "text": [
      "root\n",
      " |-- BRANCH_CODE: integer (nullable = true)\n",
      " |-- BRANCH_NAME: string (nullable = true)\n",
      " |-- BRANCH_STREET: string (nullable = true)\n",
      " |-- BRANCH_CITY: string (nullable = true)\n",
      " |-- BRANCH_STATE: string (nullable = true)\n",
      " |-- BRANCH_ZIP: integer (nullable = true)\n",
      " |-- BRANCH_PHONE: string (nullable = true)\n",
      "\n"
     ]
    }
   ],
   "source": [
    "df_branch.printSchema()"
   ]
  },
  {
   "cell_type": "markdown",
   "id": "39cd8c0d-c537-4d3a-ae3e-5f2ddad71171",
   "metadata": {},
   "source": [
    "CUSTOMER DATAFRAME"
   ]
  },
  {
   "cell_type": "code",
   "execution_count": 17,
   "id": "788e0737-e4cc-4694-b3bf-ec182cde044b",
   "metadata": {},
   "outputs": [],
   "source": [
    "df_cust = spark.read.csv('Customer.csv',header=True,inferSchema=True)\n"
   ]
  },
  {
   "cell_type": "code",
   "execution_count": 18,
   "id": "f9edd4aa-eb72-482f-8132-cf0cd28b9e29",
   "metadata": {},
   "outputs": [
    {
     "name": "stdout",
     "output_type": "stream",
     "text": [
      "+----------+-----------+-----------+-----------+----------------+---------+----------+-------------+---------+--------------------+-----------+----------+------------+--------+---------------+--------------------+\n",
      "|   CUST_ID|CUST_F_NAME|CUST_M_NAME|CUST_L_NAME|      CUST_CC_NO|CARD_TYPE|CARD_LIMIT|CARD_END_DATE| CUST_SSN|         CUST_STREET|  CUST_CITY|CUST_STATE|CUST_COUNTRY|CUST_ZIP|     CUST_PHONE|          CUST_EMAIL|\n",
      "+----------+-----------+-----------+-----------+----------------+---------+----------+-------------+---------+--------------------+-----------+----------+------------+--------+---------------+--------------------+\n",
      "|3562001602|   Chrissie|       null|     Rayner|6334878173213670|     amex|    500000|    9/12/2017|567936602|  Noble Embers Ridge|  Littleton|        CO|          US|   80126|+1 717 949 2403|  crayner1@intel.com|\n",
      "|3562001603|      Titus|       null|   Paolozzi|3567523223820780|     visa|     50000|    6/17/2024|190445473|   Blue Pioneer Bend|     Caguas|        PR|          US|     734|+1 757 848 9150|tpaolozzi2@blinkl...|\n",
      "|3562001604|     Jethro|      Byrom|     Winear|3039905356295530|     amex|    500000|    7/16/2021|143032108|       Little Common| San Marcos|        CA|          US|   92069|+1 816 186 9310|  bwinear3@vimeo.com|\n",
      "|3562001606|       Lura|       null|       Flye|3578070062995380|     visa|     50000|   10/20/2018|280264513|Sleepy Quail Prom...|    Passaic|        NJ|          US|    7055|+1 772 139 8613|  lflye5@dedecms.com|\n",
      "|3562001607|    Merrill|       null|   Ratcliff|5403648817321420|   master|    100000|     3/3/2017|195223654|     High Concession|     Caguas|        PR|          US|     732|+1 573 585 6385|mratcliff6@scribd...|\n",
      "|3562001608|     Venita|    Lennard|    Rutgers|3547496963061990|     visa|     50000|    5/24/2024|531442970|  Foggy Forest Plaza|   Lawrence|        MA|          US|    1841|+1 254 211 9979|lrutgers7@apache.org|\n",
      "|3562001610|   Orbadiah|       null|     Royson|3051418309044220|     amex|    500000|     4/1/2023|835384343|Harvest Beacon Plaza|   Stafford|        VA|          US|   22554|+1 810 522 5383|     oroyson9@go.com|\n",
      "|3562001611|      Merle|       null|     McGenn|4936290378811880|   master|    100000|    4/23/2025|653470680|         Stony Woods|     Caguas|        PR|          US|     731|+1 406 417 2673|     mmcgenna@va.gov|\n",
      "|3562001612|      Fidel|       null|     Windas|3531017574361360|     visa|     50000|     7/9/2019|355714929|Jagged Embers By-...|San Antonio|        TX|          US|   78227|+1 804 180 9650|   fwindasb@sohu.com|\n",
      "|3562001613|   Beatrice|       null|    Feedome|3588589058006900|     visa|     50000|    3/18/2019|763905687|    Iron Oak Gardens|     Caguas|        PR|          US|     730|+1 309 683 3480|bfeedomec@huffing...|\n",
      "+----------+-----------+-----------+-----------+----------------+---------+----------+-------------+---------+--------------------+-----------+----------+------------+--------+---------------+--------------------+\n",
      "only showing top 10 rows\n",
      "\n"
     ]
    }
   ],
   "source": [
    "df_cust.show(10)"
   ]
  },
  {
   "cell_type": "code",
   "execution_count": 19,
   "id": "532306f0-1f5d-4ebc-8eed-53f1c17820e8",
   "metadata": {},
   "outputs": [
    {
     "name": "stdout",
     "output_type": "stream",
     "text": [
      "root\n",
      " |-- CUST_ID: long (nullable = true)\n",
      " |-- CUST_F_NAME: string (nullable = true)\n",
      " |-- CUST_M_NAME: string (nullable = true)\n",
      " |-- CUST_L_NAME: string (nullable = true)\n",
      " |-- CUST_CC_NO: long (nullable = true)\n",
      " |-- CARD_TYPE: string (nullable = true)\n",
      " |-- CARD_LIMIT: integer (nullable = true)\n",
      " |-- CARD_END_DATE: string (nullable = true)\n",
      " |-- CUST_SSN: integer (nullable = true)\n",
      " |-- CUST_STREET: string (nullable = true)\n",
      " |-- CUST_CITY: string (nullable = true)\n",
      " |-- CUST_STATE: string (nullable = true)\n",
      " |-- CUST_COUNTRY: string (nullable = true)\n",
      " |-- CUST_ZIP: integer (nullable = true)\n",
      " |-- CUST_PHONE: string (nullable = true)\n",
      " |-- CUST_EMAIL: string (nullable = true)\n",
      "\n"
     ]
    }
   ],
   "source": [
    "df_cust.printSchema()"
   ]
  },
  {
   "cell_type": "markdown",
   "id": "96aef436-70b2-4b8a-96c2-239d8574f14d",
   "metadata": {},
   "source": [
    "TRAN_CREDITCARD DATAFRAME"
   ]
  },
  {
   "cell_type": "code",
   "execution_count": 20,
   "id": "384bfdc8-0f40-4d94-bf3d-427cb4bfd335",
   "metadata": {},
   "outputs": [],
   "source": [
    "df_tran = spark.read.csv('Tran_creditcard.csv',header=True,inferSchema=True)"
   ]
  },
  {
   "cell_type": "code",
   "execution_count": 21,
   "id": "018b9e72-30a4-4828-b25c-ed93af19c1a0",
   "metadata": {},
   "outputs": [
    {
     "name": "stdout",
     "output_type": "stream",
     "text": [
      "+-------+----------+----------+----------------+---------+-----------+---------+----------+\n",
      "|TRAN_ID| TRAN_DATE|   CUST_ID|      CUST_CC_NO| CUST_SSN|BRANCH_CODE|TRAN_TYPE|TRAN_VALUE|\n",
      "+-------+----------+----------+----------------+---------+-----------+---------+----------+\n",
      "|  33333|2018-11-28|3562001602|6334878173213670|567936602|       9526| Purchase|     20000|\n",
      "|  41012|2018-11-28|3562001602|6334878173213670|567936602|       9526|  Payment|    -20000|\n",
      "|  42022|2018-12-08|3562001602|6334878173213670|567936602|       9526| Purchase|     20000|\n",
      "|  42028|2018-12-15|3562001602|6334878173213670|567936602|       9526| Purchase|      2000|\n",
      "|  42033|2018-12-24|3562001602|6334878173213670|567936602|       9526|  Payment|     -3000|\n",
      "|  42037|2019-01-01|3562001602|6334878173213670|567936602|       9526| Purchase|      3000|\n",
      "|  42041|2019-01-11|3562001602|6334878173213670|567936602|       9526| Purchase|      4000|\n",
      "|  42044|2019-01-24|3562001602|6334878173213670|567936602|       9526|  Payment|     -2000|\n",
      "|  42047|2019-01-24|3562001602|6334878173213670|567936602|       9526|  Payment|     -2000|\n",
      "|  42051|2019-03-01|3562001602|6334878173213670|567936602|       9526|  Payment|     -1000|\n",
      "+-------+----------+----------+----------------+---------+-----------+---------+----------+\n",
      "only showing top 10 rows\n",
      "\n"
     ]
    }
   ],
   "source": [
    "df_tran.show(10)"
   ]
  },
  {
   "cell_type": "code",
   "execution_count": 22,
   "id": "00de6225-e2ac-472d-a36e-ad94fe5235e2",
   "metadata": {},
   "outputs": [
    {
     "name": "stdout",
     "output_type": "stream",
     "text": [
      "root\n",
      " |-- TRAN_ID: integer (nullable = true)\n",
      " |-- TRAN_DATE: string (nullable = true)\n",
      " |-- CUST_ID: long (nullable = true)\n",
      " |-- CUST_CC_NO: long (nullable = true)\n",
      " |-- CUST_SSN: integer (nullable = true)\n",
      " |-- BRANCH_CODE: integer (nullable = true)\n",
      " |-- TRAN_TYPE: string (nullable = true)\n",
      " |-- TRAN_VALUE: integer (nullable = true)\n",
      "\n"
     ]
    }
   ],
   "source": [
    "df_tran.printSchema()"
   ]
  },
  {
   "cell_type": "markdown",
   "id": "08bbf7e4-42c3-4e52-9006-2b3fbde56c85",
   "metadata": {},
   "source": [
    "PARTITIONING\n",
    "\n",
    "Partitioning based on month and year"
   ]
  },
  {
   "cell_type": "code",
   "execution_count": 23,
   "id": "f60a11f1-2a98-44ad-aa22-1ecce30c04f4",
   "metadata": {},
   "outputs": [],
   "source": [
    "from pyspark.sql.functions import year, month, col\n",
    "tran_creditcard = df_tran.withColumn(\"year\",year(col(\"tran_date\"))).withColumn(\"month\",month(col(\"tran_date\")))"
   ]
  },
  {
   "cell_type": "code",
   "execution_count": 24,
   "id": "d9bbaf56-871f-405f-8100-51291d6ac696",
   "metadata": {},
   "outputs": [
    {
     "name": "stdout",
     "output_type": "stream",
     "text": [
      "+-------+----------+----------+----------------+---------+-----------+---------+----------+----+-----+\n",
      "|TRAN_ID| TRAN_DATE|   CUST_ID|      CUST_CC_NO| CUST_SSN|BRANCH_CODE|TRAN_TYPE|TRAN_VALUE|year|month|\n",
      "+-------+----------+----------+----------------+---------+-----------+---------+----------+----+-----+\n",
      "|  33333|2018-11-28|3562001602|6334878173213670|567936602|       9526| Purchase|     20000|2018|   11|\n",
      "|  41012|2018-11-28|3562001602|6334878173213670|567936602|       9526|  Payment|    -20000|2018|   11|\n",
      "|  42022|2018-12-08|3562001602|6334878173213670|567936602|       9526| Purchase|     20000|2018|   12|\n",
      "|  42028|2018-12-15|3562001602|6334878173213670|567936602|       9526| Purchase|      2000|2018|   12|\n",
      "|  42033|2018-12-24|3562001602|6334878173213670|567936602|       9526|  Payment|     -3000|2018|   12|\n",
      "|  42037|2019-01-01|3562001602|6334878173213670|567936602|       9526| Purchase|      3000|2019|    1|\n",
      "|  42041|2019-01-11|3562001602|6334878173213670|567936602|       9526| Purchase|      4000|2019|    1|\n",
      "|  42044|2019-01-24|3562001602|6334878173213670|567936602|       9526|  Payment|     -2000|2019|    1|\n",
      "|  42047|2019-01-24|3562001602|6334878173213670|567936602|       9526|  Payment|     -2000|2019|    1|\n",
      "|  42051|2019-03-01|3562001602|6334878173213670|567936602|       9526|  Payment|     -1000|2019|    3|\n",
      "|  44444|2018-12-08|3562001602|6334878173213670|567936602|       9526|  Payment|    -20000|2018|   12|\n",
      "|  89890|2019-03-01|3562001602|6334878173213670|567936602|       9526| Purchase|      1000|2019|    3|\n",
      "|  97009|2018-12-15|3562001602|6334878173213670|567936602|       9526| Purchase|      2000|2018|   12|\n",
      "|  40901|2016-01-12|3562001603|3567523223820780|190445473|       3422| Purchase|     50000|2016|    1|\n",
      "|  40914|2017-08-01|3562001603|3567523223820780|190445473|       3422| Purchase|      5670|2017|    8|\n",
      "|  40930|2017-08-01|3562001603|3567523223820780|190445473|       3422| Purchase|      2340|2017|    8|\n",
      "|  40935|2018-04-05|3562001603|3567523223820780|190445473|       3422| Purchase|     45000|2018|    4|\n",
      "|  40943|2018-04-10|3562001603|3567523223820780|190445473|       3422|  Payment|    -34500|2018|    4|\n",
      "|  40961|2018-04-11|3562001603|3567523223820780|190445473|       3422| Purchase|      5000|2018|    4|\n",
      "|  40965|2018-04-24|3562001603|3567523223820780|190445473|       3422|  Payment|     -3333|2018|    4|\n",
      "+-------+----------+----------+----------------+---------+-----------+---------+----------+----+-----+\n",
      "only showing top 20 rows\n",
      "\n"
     ]
    }
   ],
   "source": [
    "tran_creditcard.show()"
   ]
  },
  {
   "cell_type": "code",
   "execution_count": 25,
   "id": "f0ce1584-07df-423f-8c25-58251d873832",
   "metadata": {},
   "outputs": [],
   "source": [
    "#Adding a column total_purchase\n",
    "from pyspark.sql import functions as f\n",
    "purchase = tran_creditcard.withColumn('Total_Purchase', f.when(f.col('tran_type') == 'Purchase',tran_creditcard.TRAN_VALUE).otherwise(0))"
   ]
  },
  {
   "cell_type": "code",
   "execution_count": 26,
   "id": "1cacf7d4-058a-4012-b3ca-d821d4f73bfb",
   "metadata": {},
   "outputs": [],
   "source": [
    "#adding a column total_payment\n",
    "from pyspark.sql import functions as f\n",
    "payment = purchase.withColumn('Total_Payment', f.when(f.col('tran_type') == 'Payment',purchase.TRAN_VALUE).otherwise(0))"
   ]
  },
  {
   "cell_type": "code",
   "execution_count": 27,
   "id": "3cae5d39-e594-43c5-a225-7428a574ddfa",
   "metadata": {},
   "outputs": [
    {
     "name": "stdout",
     "output_type": "stream",
     "text": [
      "+-------+----------+----------+----------------+---------+-----------+---------+----------+----+-----+--------------+-------------+\n",
      "|TRAN_ID| TRAN_DATE|   CUST_ID|      CUST_CC_NO| CUST_SSN|BRANCH_CODE|TRAN_TYPE|TRAN_VALUE|year|month|Total_Purchase|Total_Payment|\n",
      "+-------+----------+----------+----------------+---------+-----------+---------+----------+----+-----+--------------+-------------+\n",
      "|  33333|2018-11-28|3562001602|6334878173213670|567936602|       9526| Purchase|     20000|2018|   11|         20000|            0|\n",
      "|  41012|2018-11-28|3562001602|6334878173213670|567936602|       9526|  Payment|    -20000|2018|   11|             0|       -20000|\n",
      "|  42022|2018-12-08|3562001602|6334878173213670|567936602|       9526| Purchase|     20000|2018|   12|         20000|            0|\n",
      "|  42028|2018-12-15|3562001602|6334878173213670|567936602|       9526| Purchase|      2000|2018|   12|          2000|            0|\n",
      "|  42033|2018-12-24|3562001602|6334878173213670|567936602|       9526|  Payment|     -3000|2018|   12|             0|        -3000|\n",
      "|  42037|2019-01-01|3562001602|6334878173213670|567936602|       9526| Purchase|      3000|2019|    1|          3000|            0|\n",
      "|  42041|2019-01-11|3562001602|6334878173213670|567936602|       9526| Purchase|      4000|2019|    1|          4000|            0|\n",
      "|  42044|2019-01-24|3562001602|6334878173213670|567936602|       9526|  Payment|     -2000|2019|    1|             0|        -2000|\n",
      "|  42047|2019-01-24|3562001602|6334878173213670|567936602|       9526|  Payment|     -2000|2019|    1|             0|        -2000|\n",
      "|  42051|2019-03-01|3562001602|6334878173213670|567936602|       9526|  Payment|     -1000|2019|    3|             0|        -1000|\n",
      "|  44444|2018-12-08|3562001602|6334878173213670|567936602|       9526|  Payment|    -20000|2018|   12|             0|       -20000|\n",
      "|  89890|2019-03-01|3562001602|6334878173213670|567936602|       9526| Purchase|      1000|2019|    3|          1000|            0|\n",
      "|  97009|2018-12-15|3562001602|6334878173213670|567936602|       9526| Purchase|      2000|2018|   12|          2000|            0|\n",
      "|  40901|2016-01-12|3562001603|3567523223820780|190445473|       3422| Purchase|     50000|2016|    1|         50000|            0|\n",
      "|  40914|2017-08-01|3562001603|3567523223820780|190445473|       3422| Purchase|      5670|2017|    8|          5670|            0|\n",
      "|  40930|2017-08-01|3562001603|3567523223820780|190445473|       3422| Purchase|      2340|2017|    8|          2340|            0|\n",
      "|  40935|2018-04-05|3562001603|3567523223820780|190445473|       3422| Purchase|     45000|2018|    4|         45000|            0|\n",
      "|  40943|2018-04-10|3562001603|3567523223820780|190445473|       3422|  Payment|    -34500|2018|    4|             0|       -34500|\n",
      "|  40961|2018-04-11|3562001603|3567523223820780|190445473|       3422| Purchase|      5000|2018|    4|          5000|            0|\n",
      "|  40965|2018-04-24|3562001603|3567523223820780|190445473|       3422|  Payment|     -3333|2018|    4|             0|        -3333|\n",
      "+-------+----------+----------+----------------+---------+-----------+---------+----------+----+-----+--------------+-------------+\n",
      "only showing top 20 rows\n",
      "\n"
     ]
    }
   ],
   "source": [
    "payment.show()"
   ]
  },
  {
   "cell_type": "code",
   "execution_count": 28,
   "id": "266f1bf8-0efb-4e91-b091-bdadd5e8f01e",
   "metadata": {},
   "outputs": [
    {
     "name": "stdout",
     "output_type": "stream",
     "text": [
      "root\n",
      " |-- TRAN_ID: integer (nullable = true)\n",
      " |-- TRAN_DATE: string (nullable = true)\n",
      " |-- CUST_ID: long (nullable = true)\n",
      " |-- CUST_CC_NO: long (nullable = true)\n",
      " |-- CUST_SSN: integer (nullable = true)\n",
      " |-- BRANCH_CODE: integer (nullable = true)\n",
      " |-- TRAN_TYPE: string (nullable = true)\n",
      " |-- TRAN_VALUE: integer (nullable = true)\n",
      " |-- year: integer (nullable = true)\n",
      " |-- month: integer (nullable = true)\n",
      " |-- Total_Purchase: integer (nullable = true)\n",
      " |-- Total_Payment: integer (nullable = true)\n",
      "\n"
     ]
    }
   ],
   "source": [
    "payment.printSchema()"
   ]
  },
  {
   "cell_type": "code",
   "execution_count": 29,
   "id": "9e171934-4901-4fab-8a57-6fcb4aa17a8f",
   "metadata": {},
   "outputs": [],
   "source": [
    "from pyspark.sql.functions import *\n",
    "creditCard_sum = payment.groupby([\"cust_cc_no\",\"year\",\"month\"]).agg(sum(\"Total_Purchase\"),sum(\"Total_Payment\"))"
   ]
  },
  {
   "cell_type": "code",
   "execution_count": 30,
   "id": "ee9513ac-151a-468e-b37d-28a30d5b7dc2",
   "metadata": {},
   "outputs": [
    {
     "data": {
      "text/plain": [
       "77"
      ]
     },
     "execution_count": 30,
     "metadata": {},
     "output_type": "execute_result"
    }
   ],
   "source": [
    "creditCard_sum.count()"
   ]
  },
  {
   "cell_type": "code",
   "execution_count": 31,
   "id": "0977e69e-b618-4a10-8a6e-3e8b278a6af0",
   "metadata": {},
   "outputs": [],
   "source": [
    "#renaming cust__c_no in customer\n",
    "df_cust = df_cust.withColumnRenamed('cust_cc_no','cust_cc_no_c')"
   ]
  },
  {
   "cell_type": "code",
   "execution_count": 32,
   "id": "ac8b590c-105f-4b1c-a61a-ae885dfa12aa",
   "metadata": {},
   "outputs": [],
   "source": [
    "#joining df_cust and creditCard_purchase\n",
    "\n",
    "df_joined = df_cust.join(creditCard_sum,df_cust.cust_cc_no_c == creditCard_sum.cust_cc_no,\"inner\")"
   ]
  },
  {
   "cell_type": "code",
   "execution_count": 33,
   "id": "b0c3ec78-66a6-4bf8-b845-a7e546f27351",
   "metadata": {},
   "outputs": [
    {
     "name": "stdout",
     "output_type": "stream",
     "text": [
      "+----------+-----------+-----------+-----------+----------------+---------+----------+-------------+---------+------------------+---------+----------+------------+--------+---------------+--------------------+----------------+----+-----+-------------------+------------------+\n",
      "|   CUST_ID|CUST_F_NAME|CUST_M_NAME|CUST_L_NAME|    cust_cc_no_c|CARD_TYPE|CARD_LIMIT|CARD_END_DATE| CUST_SSN|       CUST_STREET|CUST_CITY|CUST_STATE|CUST_COUNTRY|CUST_ZIP|     CUST_PHONE|          CUST_EMAIL|      cust_cc_no|year|month|sum(Total_Purchase)|sum(Total_Payment)|\n",
      "+----------+-----------+-----------+-----------+----------------+---------+----------+-------------+---------+------------------+---------+----------+------------+--------+---------------+--------------------+----------------+----+-----+-------------------+------------------+\n",
      "|3562001602|   Chrissie|       null|     Rayner|6334878173213670|     amex|    500000|    9/12/2017|567936602|Noble Embers Ridge|Littleton|        CO|          US|   80126|+1 717 949 2403|  crayner1@intel.com|6334878173213670|2018|   12|              24000|            -23000|\n",
      "|3562001602|   Chrissie|       null|     Rayner|6334878173213670|     amex|    500000|    9/12/2017|567936602|Noble Embers Ridge|Littleton|        CO|          US|   80126|+1 717 949 2403|  crayner1@intel.com|6334878173213670|2018|   11|              20000|            -20000|\n",
      "|3562001602|   Chrissie|       null|     Rayner|6334878173213670|     amex|    500000|    9/12/2017|567936602|Noble Embers Ridge|Littleton|        CO|          US|   80126|+1 717 949 2403|  crayner1@intel.com|6334878173213670|2019|    1|               7000|             -4000|\n",
      "|3562001602|   Chrissie|       null|     Rayner|6334878173213670|     amex|    500000|    9/12/2017|567936602|Noble Embers Ridge|Littleton|        CO|          US|   80126|+1 717 949 2403|  crayner1@intel.com|6334878173213670|2019|    3|               1000|             -1000|\n",
      "|3562001603|      Titus|       null|   Paolozzi|3567523223820780|     visa|     50000|    6/17/2024|190445473| Blue Pioneer Bend|   Caguas|        PR|          US|     734|+1 757 848 9150|tpaolozzi2@blinkl...|3567523223820780|2017|    8|               8010|                 0|\n",
      "+----------+-----------+-----------+-----------+----------------+---------+----------+-------------+---------+------------------+---------+----------+------------+--------+---------------+--------------------+----------------+----+-----+-------------------+------------------+\n",
      "only showing top 5 rows\n",
      "\n"
     ]
    }
   ],
   "source": [
    "df_joined.show(5)"
   ]
  },
  {
   "cell_type": "code",
   "execution_count": 34,
   "id": "2234512a-1a03-4d20-a47e-e67c11375733",
   "metadata": {},
   "outputs": [],
   "source": [
    "#concatenating names\n",
    "\n",
    "from pyspark.sql.functions import concat,concat_ws,col\n",
    "df_joined_con = df_joined.withColumn('Full_Name', concat_ws(\" \",df_joined.CUST_F_NAME,df_joined.CUST_L_NAME))"
   ]
  },
  {
   "cell_type": "code",
   "execution_count": 35,
   "id": "d4d945f5-4d97-4568-8e3c-fb13addd7dac",
   "metadata": {},
   "outputs": [
    {
     "name": "stdout",
     "output_type": "stream",
     "text": [
      "+----------+-----------+-----------+-----------+----------------+---------+----------+-------------+---------+------------------+---------+----------+------------+--------+---------------+--------------------+----------------+----+-----+-------------------+------------------+---------------+\n",
      "|   CUST_ID|CUST_F_NAME|CUST_M_NAME|CUST_L_NAME|    cust_cc_no_c|CARD_TYPE|CARD_LIMIT|CARD_END_DATE| CUST_SSN|       CUST_STREET|CUST_CITY|CUST_STATE|CUST_COUNTRY|CUST_ZIP|     CUST_PHONE|          CUST_EMAIL|      cust_cc_no|year|month|sum(Total_Purchase)|sum(Total_Payment)|      Full_Name|\n",
      "+----------+-----------+-----------+-----------+----------------+---------+----------+-------------+---------+------------------+---------+----------+------------+--------+---------------+--------------------+----------------+----+-----+-------------------+------------------+---------------+\n",
      "|3562001602|   Chrissie|       null|     Rayner|6334878173213670|     amex|    500000|    9/12/2017|567936602|Noble Embers Ridge|Littleton|        CO|          US|   80126|+1 717 949 2403|  crayner1@intel.com|6334878173213670|2018|   12|              24000|            -23000|Chrissie Rayner|\n",
      "|3562001602|   Chrissie|       null|     Rayner|6334878173213670|     amex|    500000|    9/12/2017|567936602|Noble Embers Ridge|Littleton|        CO|          US|   80126|+1 717 949 2403|  crayner1@intel.com|6334878173213670|2018|   11|              20000|            -20000|Chrissie Rayner|\n",
      "|3562001602|   Chrissie|       null|     Rayner|6334878173213670|     amex|    500000|    9/12/2017|567936602|Noble Embers Ridge|Littleton|        CO|          US|   80126|+1 717 949 2403|  crayner1@intel.com|6334878173213670|2019|    1|               7000|             -4000|Chrissie Rayner|\n",
      "|3562001602|   Chrissie|       null|     Rayner|6334878173213670|     amex|    500000|    9/12/2017|567936602|Noble Embers Ridge|Littleton|        CO|          US|   80126|+1 717 949 2403|  crayner1@intel.com|6334878173213670|2019|    3|               1000|             -1000|Chrissie Rayner|\n",
      "|3562001603|      Titus|       null|   Paolozzi|3567523223820780|     visa|     50000|    6/17/2024|190445473| Blue Pioneer Bend|   Caguas|        PR|          US|     734|+1 757 848 9150|tpaolozzi2@blinkl...|3567523223820780|2017|    8|               8010|                 0| Titus Paolozzi|\n",
      "+----------+-----------+-----------+-----------+----------------+---------+----------+-------------+---------+------------------+---------+----------+------------+--------+---------------+--------------------+----------------+----+-----+-------------------+------------------+---------------+\n",
      "only showing top 5 rows\n",
      "\n"
     ]
    }
   ],
   "source": [
    "df_joined_con.show(5)"
   ]
  },
  {
   "cell_type": "code",
   "execution_count": 36,
   "id": "84b0d906-34db-4517-8b04-841477e4c8cb",
   "metadata": {},
   "outputs": [],
   "source": [
    "CredCard_Year_Mon_Summ = df_joined_con.select('cust_id','Full_Name','cust_cc_no','card_limit','card_type','year','month','sum(Total_Purchase)','sum(Total_Payment)')"
   ]
  },
  {
   "cell_type": "code",
   "execution_count": 37,
   "id": "9f0d4b54-6fe0-4f41-81fe-a18ce0595934",
   "metadata": {},
   "outputs": [
    {
     "name": "stdout",
     "output_type": "stream",
     "text": [
      "+----------+---------------+----------------+----------+---------+----+-----+-------------------+------------------+\n",
      "|   cust_id|      Full_Name|      cust_cc_no|card_limit|card_type|year|month|sum(Total_Purchase)|sum(Total_Payment)|\n",
      "+----------+---------------+----------------+----------+---------+----+-----+-------------------+------------------+\n",
      "|3562001692|  Layne Phelips|5602236760338580|    500000|     amex|2019|   11|              10000|                 0|\n",
      "|3562001699|  Brig Tompkiss|2014268557886530|    500000|     amex|2018|    8|               8400|             -2400|\n",
      "|3562001674|  Rhoda Biddles|3549138667705450|     50000|     visa|2018|    9|             280000|           -260500|\n",
      "|3562001617|Tucky Sabbatier|3058775791217550|    500000|     amex|2019|    2|              50000|            -50000|\n",
      "|3562001617|Tucky Sabbatier|3058775791217550|    500000|     amex|2018|   11|              80000|            -40000|\n",
      "+----------+---------------+----------------+----------+---------+----+-----+-------------------+------------------+\n",
      "only showing top 5 rows\n",
      "\n"
     ]
    }
   ],
   "source": [
    "CredCard_Year_Mon_Summ.show(5)"
   ]
  },
  {
   "cell_type": "code",
   "execution_count": 38,
   "id": "d2525718-4bed-4565-9de8-5eedf3fa1bc1",
   "metadata": {},
   "outputs": [],
   "source": [
    "CredCard_Year_Mon_Summ=CredCard_Year_Mon_Summ.withColumnRenamed('sum(Total_Purchase)','Total_Purchase')\n",
    "CredCard_Year_Mon_Summ=CredCard_Year_Mon_Summ.withColumnRenamed('sum(Total_Payment)','Total_Payment')"
   ]
  },
  {
   "cell_type": "code",
   "execution_count": 39,
   "id": "8eafadf8-cd6a-4db8-bfc2-ef89fc73f75c",
   "metadata": {},
   "outputs": [
    {
     "name": "stderr",
     "output_type": "stream",
     "text": [
      "                                                                                \r"
     ]
    },
    {
     "data": {
      "text/plain": [
       "77"
      ]
     },
     "execution_count": 39,
     "metadata": {},
     "output_type": "execute_result"
    }
   ],
   "source": [
    "CredCard_Year_Mon_Summ.count()"
   ]
  },
  {
   "cell_type": "code",
   "execution_count": 40,
   "id": "22a14628-ba68-4f42-8cd9-27fe11df31e5",
   "metadata": {},
   "outputs": [
    {
     "name": "stdout",
     "output_type": "stream",
     "text": [
      "+----------+----------------+----------------+----------+---------+----+-----+--------------+-------------+\n",
      "|   cust_id|       Full_Name|      cust_cc_no|card_limit|card_type|year|month|Total_Purchase|Total_Payment|\n",
      "+----------+----------------+----------------+----------+---------+----+-----+--------------+-------------+\n",
      "|3562001692|   Layne Phelips|5602236760338580|    500000|     amex|2019|   11|         10000|            0|\n",
      "|3562001699|   Brig Tompkiss|2014268557886530|    500000|     amex|2018|    8|          8400|        -2400|\n",
      "|3562001674|   Rhoda Biddles|3549138667705450|     50000|     visa|2018|    9|        280000|      -260500|\n",
      "|3562001617| Tucky Sabbatier|3058775791217550|    500000|     amex|2019|    2|         50000|       -50000|\n",
      "|3562001617| Tucky Sabbatier|3058775791217550|    500000|     amex|2018|   11|         80000|       -40000|\n",
      "|3562001607|Merrill Ratcliff|5403648817321420|    100000|   master|2017|    7|           234|         -234|\n",
      "|3562001664|     Nessy Royal|6334792030406340|    500000|     amex|2018|    2|        100000|      -100000|\n",
      "|3562001664|     Nessy Royal|6334792030406340|    500000|     amex|2017|    9|          7000|        -7000|\n",
      "|3562001604|   Jethro Winear|3039905356295530|    500000|     amex|2017|    5|         52100|       -30000|\n",
      "|3562001674|   Rhoda Biddles|3549138667705450|     50000|     visa|2018|    7|         14000|       -14000|\n",
      "|3562001607|Merrill Ratcliff|5403648817321420|    100000|   master|2018|    8|          2500|        -2500|\n",
      "|3562001682| Ilario Hadfield|6304715204316940|    100000|   master|2018|    5|         50000|       -50000|\n",
      "|3562001602| Chrissie Rayner|6334878173213670|    500000|     amex|2019|    3|          1000|        -1000|\n",
      "|3562001649|    Fawnia Swale|5127419432105430|    100000|   master|2018|   12|         60000|       -60000|\n",
      "|3562001602| Chrissie Rayner|6334878173213670|    500000|     amex|2019|    1|          7000|        -4000|\n",
      "|3562001638|     Denny Hehir|5210169439885370|    100000|   master|2018|    3|         10000|       -10000|\n",
      "|3562001635|   Sampson Genge|5602257512986730|    500000|     amex|2017|    5|        100000|       -50000|\n",
      "|3562001603|  Titus Paolozzi|3567523223820780|     50000|     visa|2016|    1|         50000|            0|\n",
      "|3562001678|Bogart Summersby|3041940220450330|    500000|     amex|2019|    1|        350000|      -250000|\n",
      "|3562001692|   Layne Phelips|5602236760338580|    500000|     amex|2018|   11|             0|       -10000|\n",
      "|3562001699|   Brig Tompkiss|2014268557886530|    500000|     amex|2018|    3|         34840|       -29840|\n",
      "|3562001621|    Peg Welbrock|3537914201882630|     50000|     visa|2018|    9|         55600|       -47600|\n",
      "|3562001613|Beatrice Feedome|3588589058006900|     50000|     visa|2016|    2|         15000|            0|\n",
      "|3562001682| Ilario Hadfield|6304715204316940|    100000|   master|2018|   10|          6700|        -2400|\n",
      "|3562001602| Chrissie Rayner|6334878173213670|    500000|     amex|2018|   11|         20000|       -20000|\n",
      "|3562001674|   Rhoda Biddles|3549138667705450|     50000|     visa|2017|    8|         10000|       -10000|\n",
      "|3562001662|      Reta Nairy|2017763113611190|    500000|     amex|2020|    5|         22055|       -20000|\n",
      "|3562001635|   Sampson Genge|5602257512986730|    500000|     amex|2016|    3|        200000|      -200000|\n",
      "|3562001696|    Ray Dilliway|3583849494251710|     50000|     visa|2018|    6|          7800|        -7400|\n",
      "|3562001615|    Nessa Brisse|3566727575950610|     50000|     visa|2016|    3|          6000|            0|\n",
      "|3562001607|Merrill Ratcliff|5403648817321420|    100000|   master|2017|    6|           980|         -980|\n",
      "|3562001615|    Nessa Brisse|3566727575950610|     50000|     visa|2017|    4|          4000|            0|\n",
      "|3562001682| Ilario Hadfield|6304715204316940|    100000|   master|2018|    9|         13400|       -13400|\n",
      "|3562001652|    Gina Massimi|3553250558494440|     50000|     visa|2018|    4|          2000|            0|\n",
      "|3562001674|   Rhoda Biddles|3549138667705450|     50000|     visa|2018|    8|         10000|       -10000|\n",
      "|3562001607|Merrill Ratcliff|5403648817321420|    100000|   master|2017|    4|           678|         -678|\n",
      "|3562001607|Merrill Ratcliff|5403648817321420|    100000|   master|2018|    7|           566|         -566|\n",
      "|3562001696|    Ray Dilliway|3583849494251710|     50000|     visa|2018|   10|          7000|        -3000|\n",
      "|3562001608|  Venita Rutgers|3547496963061990|     50000|     visa|2016|    3|          7000|            0|\n",
      "|3562001638|     Denny Hehir|5210169439885370|    100000|   master|2017|    4|          8000|        -8000|\n",
      "|3562001604|   Jethro Winear|3039905356295530|    500000|     amex|2016|    1|         15000|            0|\n",
      "|3562001692|   Layne Phelips|5602236760338580|    500000|     amex|2018|    8|         10000|            0|\n",
      "|3562001696|    Ray Dilliway|3583849494251710|     50000|     visa|2018|   11|         43000|       -40000|\n",
      "|3562001631|  Marlow Seleway|3537861601381620|     50000|     visa|2019|    2|         25000|       -20000|\n",
      "|3562001635|   Sampson Genge|5602257512986730|    500000|     amex|2017|    6|         50000|       -50000|\n",
      "|3562001688|Torrance Scrowby|4607915147472950|     50000|     visa|2018|    6|         10000|        -8800|\n",
      "|3562001611|    Merle McGenn|4936290378811880|    100000|   master|2018|   12|         43321|       -43321|\n",
      "|3562001612|    Fidel Windas|3531017574361360|     50000|     visa|2017|    6|         50000|       -45000|\n",
      "|3562001652|    Gina Massimi|3553250558494440|     50000|     visa|2018|    6|         10000|            0|\n",
      "|3562001606|       Lura Flye|3578070062995380|     50000|     visa|2018|   12|         31000|       -31000|\n",
      "|3562001615|    Nessa Brisse|3566727575950610|     50000|     visa|2018|    3|          5000|        -1000|\n",
      "|3562001652|    Gina Massimi|3553250558494440|     50000|     visa|2018|    8|          6689|            0|\n",
      "|3562001612|    Fidel Windas|3531017574361360|     50000|     visa|2016|    2|         10000|            0|\n",
      "|3562001674|   Rhoda Biddles|3549138667705450|     50000|     visa|2017|    6|         40000|       -20000|\n",
      "|3562001664|     Nessy Royal|6334792030406340|    500000|     amex|2018|    7|        200000|      -200000|\n",
      "|3562001608|  Venita Rutgers|3547496963061990|     50000|     visa|2016|    2|         52460|       -20000|\n",
      "|3562001603|  Titus Paolozzi|3567523223820780|     50000|     visa|2018|    4|         50000|       -37833|\n",
      "|3562001607|Merrill Ratcliff|5403648817321420|    100000|   master|2016|    3|           324|         -324|\n",
      "|3562001621|    Peg Welbrock|3537914201882630|     50000|     visa|2017|    7|         21000|       -13500|\n",
      "|3562001602| Chrissie Rayner|6334878173213670|    500000|     amex|2018|   12|         24000|       -23000|\n",
      "|3562001630|  Elladine Dealy|6378610833616780|    100000|   master|2017|    4|        200000|      -200000|\n",
      "|3562001649|    Fawnia Swale|5127419432105430|    100000|   master|2019|    2|        120000|      -120000|\n",
      "|3562001638|     Denny Hehir|5210169439885370|    100000|   master|2018|    7|         12000|       -12000|\n",
      "|3562001692|   Layne Phelips|5602236760338580|    500000|     amex|2018|    9|         20000|            0|\n",
      "|3562001630|  Elladine Dealy|6378610833616780|    100000|   master|2016|    2|        100000|      -100000|\n",
      "|3562001662|      Reta Nairy|2017763113611190|    500000|     amex|2020|    4|         30200|       -20000|\n",
      "|3562001607|Merrill Ratcliff|5403648817321420|    100000|   master|2017|    8|           345|         -345|\n",
      "|3562001607|Merrill Ratcliff|5403648817321420|    100000|   master|2016|    2|           500|         -500|\n",
      "|3562001608|  Venita Rutgers|3547496963061990|     50000|     visa|2017|    6|         10000|        -6700|\n",
      "|3562001662|      Reta Nairy|2017763113611190|    500000|     amex|2018|   12|         80000|       -40000|\n",
      "|3562001649|    Fawnia Swale|5127419432105430|    100000|   master|2019|    1|        400000|      -400000|\n",
      "|3562001696|    Ray Dilliway|3583849494251710|     50000|     visa|2018|    2|         10000|            0|\n",
      "|3562001603|  Titus Paolozzi|3567523223820780|     50000|     visa|2017|    8|          8010|            0|\n",
      "|3562001692|   Layne Phelips|5602236760338580|    500000|     amex|2018|   10|         10000|       -10000|\n",
      "|3562001674|   Rhoda Biddles|3549138667705450|     50000|     visa|2018|    5|           670|         -670|\n",
      "|3562001652|    Gina Massimi|3553250558494440|     50000|     visa|2018|   10|           400|            0|\n",
      "|3562001682| Ilario Hadfield|6304715204316940|    100000|   master|2018|    8|          6700|        -6700|\n",
      "+----------+----------------+----------------+----------+---------+----+-----+--------------+-------------+\n",
      "\n"
     ]
    }
   ],
   "source": [
    "CredCard_Year_Mon_Summ.show(77)"
   ]
  },
  {
   "cell_type": "markdown",
   "id": "c8126ce7-d064-4d92-aafc-4289141c591b",
   "metadata": {},
   "source": [
    "FUNCTIONAL REQUIREMENT 2"
   ]
  },
  {
   "cell_type": "code",
   "execution_count": 41,
   "id": "4a81dda6-1069-40c1-805a-9bbc524eb3c0",
   "metadata": {},
   "outputs": [],
   "source": [
    "from pyspark.sql.functions import expr, col\n",
    "CredCard_Limit = CredCard_Year_Mon_Summ.withColumn(\"Remarks\",expr(\"CASE WHEN card_limit<Total_purchase THEN 'ALERT CC TEAM'\" + \"ELSE 'NO ALERT' END\"))"
   ]
  },
  {
   "cell_type": "code",
   "execution_count": 42,
   "id": "ff66217b-9d30-4354-9e47-19d5e0cf3642",
   "metadata": {},
   "outputs": [
    {
     "name": "stdout",
     "output_type": "stream",
     "text": [
      "+----------+---------------+----------------+----------+---------+----+-----+--------------+-------------+-------------+\n",
      "|   cust_id|      Full_Name|      cust_cc_no|card_limit|card_type|year|month|Total_Purchase|Total_Payment|      Remarks|\n",
      "+----------+---------------+----------------+----------+---------+----+-----+--------------+-------------+-------------+\n",
      "|3562001692|  Layne Phelips|5602236760338580|    500000|     amex|2019|   11|         10000|            0|     NO ALERT|\n",
      "|3562001699|  Brig Tompkiss|2014268557886530|    500000|     amex|2018|    8|          8400|        -2400|     NO ALERT|\n",
      "|3562001674|  Rhoda Biddles|3549138667705450|     50000|     visa|2018|    9|        280000|      -260500|ALERT CC TEAM|\n",
      "|3562001617|Tucky Sabbatier|3058775791217550|    500000|     amex|2019|    2|         50000|       -50000|     NO ALERT|\n",
      "|3562001617|Tucky Sabbatier|3058775791217550|    500000|     amex|2018|   11|         80000|       -40000|     NO ALERT|\n",
      "+----------+---------------+----------------+----------+---------+----+-----+--------------+-------------+-------------+\n",
      "only showing top 5 rows\n",
      "\n"
     ]
    }
   ],
   "source": [
    "CredCard_Limit.show(5)"
   ]
  },
  {
   "cell_type": "code",
   "execution_count": 43,
   "id": "b88e3202-feb8-458a-af46-ca034b4a5c7e",
   "metadata": {},
   "outputs": [],
   "source": [
    "CredCard_Limit_Exed = CredCard_Limit.filter(CredCard_Limit['Remarks'] == 'ALERT CC TEAM')"
   ]
  },
  {
   "cell_type": "code",
   "execution_count": 44,
   "id": "fb1dacc4-2411-4652-bd62-4675c6c58bf7",
   "metadata": {},
   "outputs": [
    {
     "name": "stdout",
     "output_type": "stream",
     "text": [
      "+----------+--------------+----------------+----------+---------+----+-----+--------------+-------------+-------------+\n",
      "|   cust_id|     Full_Name|      cust_cc_no|card_limit|card_type|year|month|Total_Purchase|Total_Payment|      Remarks|\n",
      "+----------+--------------+----------------+----------+---------+----+-----+--------------+-------------+-------------+\n",
      "|3562001674| Rhoda Biddles|3549138667705450|     50000|     visa|2018|    9|        280000|      -260500|ALERT CC TEAM|\n",
      "|3562001621|  Peg Welbrock|3537914201882630|     50000|     visa|2018|    9|         55600|       -47600|ALERT CC TEAM|\n",
      "|3562001608|Venita Rutgers|3547496963061990|     50000|     visa|2016|    2|         52460|       -20000|ALERT CC TEAM|\n",
      "|3562001630|Elladine Dealy|6378610833616780|    100000|   master|2017|    4|        200000|      -200000|ALERT CC TEAM|\n",
      "|3562001649|  Fawnia Swale|5127419432105430|    100000|   master|2019|    2|        120000|      -120000|ALERT CC TEAM|\n",
      "|3562001649|  Fawnia Swale|5127419432105430|    100000|   master|2019|    1|        400000|      -400000|ALERT CC TEAM|\n",
      "+----------+--------------+----------------+----------+---------+----+-----+--------------+-------------+-------------+\n",
      "\n"
     ]
    }
   ],
   "source": [
    "CredCard_Limit_Exed.show()"
   ]
  },
  {
   "cell_type": "code",
   "execution_count": 45,
   "id": "60d0e667-6700-4296-a626-8659518ab1f6",
   "metadata": {},
   "outputs": [
    {
     "data": {
      "text/plain": [
       "6"
      ]
     },
     "execution_count": 45,
     "metadata": {},
     "output_type": "execute_result"
    }
   ],
   "source": [
    "CredCard_Limit_Exed.count()"
   ]
  },
  {
   "cell_type": "markdown",
   "id": "e6d7f0c0-2afb-4f27-899c-522199562b22",
   "metadata": {},
   "source": [
    "FUNCTIONAL REQUIREMENT 3"
   ]
  },
  {
   "cell_type": "code",
   "execution_count": 46,
   "id": "39d9f5d6-805c-49e1-aed1-e3eacfee80a9",
   "metadata": {},
   "outputs": [],
   "source": [
    "from pyspark.sql.functions import *\n",
    "df_due = payment.groupby([\"cust_cc_no\",\"year\"]).agg(sum(\"Total_Purchase\"),sum(\"Total_Payment\"))\n",
    "df_due = df_due.withColumnRenamed('sum(Total_Purchase)','Total_Purchase')\n",
    "df_due = df_due.withColumnRenamed('sum(Total_Payment)','Total_Payment')\n",
    "#df_due = tran_creditcard.filter(tran_creditcard['TRAN_TYPE']==\"Purchase\").groupby([\"cust_cc_no\",\"year\"]).agg(sum(\"TRAN_VALUE\"))\n",
    "#creditCard_sum = payment.groupby([\"cust_cc_no\",\"year\",\"month\"]).agg(sum(\"Total_Purchase\"),sum(\"Total_Payment\"))"
   ]
  },
  {
   "cell_type": "code",
   "execution_count": 47,
   "id": "13d2e59f-84a2-4778-ad70-9713de591476",
   "metadata": {},
   "outputs": [
    {
     "name": "stdout",
     "output_type": "stream",
     "text": [
      "+----------------+----+--------------+-------------+\n",
      "|      cust_cc_no|year|Total_Purchase|Total_Payment|\n",
      "+----------------+----+--------------+-------------+\n",
      "|3566727575950610|2017|          4000|            0|\n",
      "|5403648817321420|2016|           824|         -824|\n",
      "|3549138667705450|2017|         50000|       -30000|\n",
      "|3547496963061990|2016|         59460|       -20000|\n",
      "|2017763113611190|2018|         80000|       -40000|\n",
      "+----------------+----+--------------+-------------+\n",
      "only showing top 5 rows\n",
      "\n"
     ]
    }
   ],
   "source": [
    "df_due.show(5)"
   ]
  },
  {
   "cell_type": "code",
   "execution_count": 48,
   "id": "bce38b75-8020-442b-8239-e1d0b17dd195",
   "metadata": {},
   "outputs": [],
   "source": [
    "df_overdue = df_due.withColumn('Annual_overdue',df_due['Total_Purchase']+df_due['Total_Payment'])"
   ]
  },
  {
   "cell_type": "code",
   "execution_count": 49,
   "id": "7d82ceec-c3a7-43b7-bf1c-3af689dd4eec",
   "metadata": {},
   "outputs": [],
   "source": [
    "df_overdue = df_overdue.orderBy(\"year\")"
   ]
  },
  {
   "cell_type": "code",
   "execution_count": 50,
   "id": "d7076e80-fd2b-45fe-8137-9803a200221a",
   "metadata": {},
   "outputs": [
    {
     "data": {
      "text/plain": [
       "47"
      ]
     },
     "execution_count": 50,
     "metadata": {},
     "output_type": "execute_result"
    }
   ],
   "source": [
    "df_overdue.count()"
   ]
  },
  {
   "cell_type": "code",
   "execution_count": 51,
   "id": "6d2438b8-0a78-485c-a70a-023089897f65",
   "metadata": {},
   "outputs": [
    {
     "name": "stdout",
     "output_type": "stream",
     "text": [
      "+----------------+----+--------------+-------------+--------------+\n",
      "|      cust_cc_no|year|Total_Purchase|Total_Payment|Annual_overdue|\n",
      "+----------------+----+--------------+-------------+--------------+\n",
      "|6378610833616780|2016|        100000|      -100000|             0|\n",
      "|3566727575950610|2016|          6000|            0|          6000|\n",
      "|3567523223820780|2016|         50000|            0|         50000|\n",
      "|5602257512986730|2016|        200000|      -200000|             0|\n",
      "|5403648817321420|2016|           824|         -824|             0|\n",
      "|3039905356295530|2016|         15000|            0|         15000|\n",
      "|3547496963061990|2016|         59460|       -20000|         39460|\n",
      "|3531017574361360|2016|         10000|            0|         10000|\n",
      "|3588589058006900|2016|         15000|            0|         15000|\n",
      "|3537914201882630|2017|         21000|       -13500|          7500|\n",
      "|3531017574361360|2017|         50000|       -45000|          5000|\n",
      "|6378610833616780|2017|        200000|      -200000|             0|\n",
      "|3039905356295530|2017|         52100|       -30000|         22100|\n",
      "|6334792030406340|2017|          7000|        -7000|             0|\n",
      "|5210169439885370|2017|          8000|        -8000|             0|\n",
      "+----------------+----+--------------+-------------+--------------+\n",
      "only showing top 15 rows\n",
      "\n"
     ]
    }
   ],
   "source": [
    "df_overdue.show(15)"
   ]
  },
  {
   "cell_type": "code",
   "execution_count": 52,
   "id": "7c12d696-644d-4756-982a-9578a94c9be9",
   "metadata": {},
   "outputs": [],
   "source": [
    "from pyspark.sql.functions import *"
   ]
  },
  {
   "cell_type": "code",
   "execution_count": 53,
   "id": "9ade8ad2-886e-420c-b512-14b3699789d9",
   "metadata": {},
   "outputs": [],
   "source": [
    "df_category = df_overdue.withColumn('Remark',expr(\"CASE WHEN Annual_overdue<=0 THEN 'GOOD'\" + \"WHEN Annual_overdue<=10000 THEN 'NORMAL'\" + \"ELSE 'POOR' END\"))"
   ]
  },
  {
   "cell_type": "code",
   "execution_count": 54,
   "id": "a1b7d23d-0df6-43d8-a0e1-f24f80d98105",
   "metadata": {},
   "outputs": [],
   "source": [
    "df_category = df_category.orderBy(\"year\")"
   ]
  },
  {
   "cell_type": "code",
   "execution_count": 55,
   "id": "1860493d-fe76-4cbc-911f-e09a47136691",
   "metadata": {},
   "outputs": [
    {
     "data": {
      "text/plain": [
       "47"
      ]
     },
     "execution_count": 55,
     "metadata": {},
     "output_type": "execute_result"
    }
   ],
   "source": [
    "df_category.count()"
   ]
  },
  {
   "cell_type": "code",
   "execution_count": 56,
   "id": "dcb3f213-4ba3-40d9-8a24-7f8a59ae433e",
   "metadata": {},
   "outputs": [
    {
     "data": {
      "text/plain": [
       "17"
      ]
     },
     "execution_count": 56,
     "metadata": {},
     "output_type": "execute_result"
    }
   ],
   "source": [
    "#count no of poor customers\n",
    "df_category.select('Remark').where(df_category.Remark == 'POOR').count()"
   ]
  },
  {
   "cell_type": "code",
   "execution_count": 57,
   "id": "ac90e74d-1925-4d39-878a-6b543e4e1640",
   "metadata": {},
   "outputs": [
    {
     "data": {
      "text/plain": [
       "15"
      ]
     },
     "execution_count": 57,
     "metadata": {},
     "output_type": "execute_result"
    }
   ],
   "source": [
    "#count no of good customers\n",
    "df_category.select('Remark').where(df_category.Remark == 'GOOD').count()"
   ]
  },
  {
   "cell_type": "code",
   "execution_count": 58,
   "id": "65820698-4086-40fd-a695-5b6c4230f39d",
   "metadata": {},
   "outputs": [
    {
     "data": {
      "text/plain": [
       "15"
      ]
     },
     "execution_count": 58,
     "metadata": {},
     "output_type": "execute_result"
    }
   ],
   "source": [
    "#count no of normal customers\n",
    "df_category.select('Remark').where(df_category.Remark == 'NORMAL').count()"
   ]
  },
  {
   "cell_type": "markdown",
   "id": "a64fc151-771e-4097-9b25-2b68fdbaef36",
   "metadata": {},
   "source": [
    "FUNCTIONAL REQUIREMENT 4\n",
    "\n",
    "Grouping by Card_type"
   ]
  },
  {
   "cell_type": "code",
   "execution_count": 59,
   "id": "f64ccc30-9eca-469b-bbab-2a1f0ec02d81",
   "metadata": {},
   "outputs": [],
   "source": [
    "df_plot = df_cust.join(df_category,df_cust.cust_cc_no_c == df_category.cust_cc_no,\"inner\").select('cust_cc_no','year','Total_Purchase','card_type')"
   ]
  },
  {
   "cell_type": "code",
   "execution_count": 60,
   "id": "33faeb33-124e-4504-bacb-173381ad8fe7",
   "metadata": {},
   "outputs": [
    {
     "name": "stdout",
     "output_type": "stream",
     "text": [
      "+----------------+----+--------------+---------+\n",
      "|      cust_cc_no|year|Total_Purchase|card_type|\n",
      "+----------------+----+--------------+---------+\n",
      "|3566727575950610|2017|          4000|     visa|\n",
      "|5403648817321420|2016|           824|   master|\n",
      "+----------------+----+--------------+---------+\n",
      "only showing top 2 rows\n",
      "\n"
     ]
    }
   ],
   "source": [
    "df_plot.show(2)"
   ]
  },
  {
   "cell_type": "code",
   "execution_count": 61,
   "id": "61ddc77d-dc81-48b2-a0f4-d7c67a31397f",
   "metadata": {},
   "outputs": [],
   "source": [
    "from pyspark.sql.functions import *\n",
    "df_plot = df_plot.groupby('card_type').agg(sum(\"Total_Purchase\"))\n",
    "#credcard_type = credcard_type.withColumnRenamed('sum(Total_Purchase)','Purchase_type')"
   ]
  },
  {
   "cell_type": "code",
   "execution_count": 62,
   "id": "7741cb61-d62a-499e-a18f-841f33841817",
   "metadata": {},
   "outputs": [
    {
     "name": "stdout",
     "output_type": "stream",
     "text": [
      "+---------+-------------------+\n",
      "|card_type|sum(Total_Purchase)|\n",
      "+---------+-------------------+\n",
      "|   master|            1036248|\n",
      "|     amex|            1481595|\n",
      "|     visa|             851629|\n",
      "+---------+-------------------+\n",
      "\n"
     ]
    }
   ],
   "source": [
    "df_plot.show()"
   ]
  },
  {
   "cell_type": "code",
   "execution_count": 63,
   "id": "e9e0b4f6-f71b-4ef5-ba7b-75a5de617db3",
   "metadata": {},
   "outputs": [
    {
     "name": "stderr",
     "output_type": "stream",
     "text": [
      "WARNING: pip is being invoked by an old script wrapper. This will fail in a future version of pip.\n",
      "Please see https://github.com/pypa/pip/issues/5599 for advice on fixing the underlying issue.\n",
      "To avoid this problem you can invoke Python with '-m pip' instead of running pip directly.\n"
     ]
    },
    {
     "name": "stdout",
     "output_type": "stream",
     "text": [
      "Requirement already satisfied: matplotlib in ./ENTER/lib/python3.7/site-packages (3.5.1)\n",
      "Requirement already satisfied: numpy>=1.17 in ./ENTER/lib/python3.7/site-packages (from matplotlib) (1.21.5)\n",
      "Requirement already satisfied: fonttools>=4.22.0 in ./ENTER/lib/python3.7/site-packages (from matplotlib) (4.28.5)\n",
      "Requirement already satisfied: packaging>=20.0 in ./ENTER/lib/python3.7/site-packages (from matplotlib) (21.2)\n",
      "Requirement already satisfied: kiwisolver>=1.0.1 in ./ENTER/lib/python3.7/site-packages (from matplotlib) (1.3.2)\n",
      "Requirement already satisfied: pillow>=6.2.0 in ./ENTER/lib/python3.7/site-packages (from matplotlib) (8.4.0)\n",
      "Requirement already satisfied: python-dateutil>=2.7 in ./ENTER/lib/python3.7/site-packages (from matplotlib) (2.8.2)\n",
      "Requirement already satisfied: pyparsing>=2.2.1 in ./ENTER/lib/python3.7/site-packages (from matplotlib) (2.4.7)\n",
      "Requirement already satisfied: cycler>=0.10 in ./ENTER/lib/python3.7/site-packages (from matplotlib) (0.11.0)\n",
      "Requirement already satisfied: six>=1.5 in ./ENTER/lib/python3.7/site-packages (from python-dateutil>=2.7->matplotlib) (1.16.0)\n"
     ]
    },
    {
     "data": {
      "text/plain": [
       "0"
      ]
     },
     "execution_count": 63,
     "metadata": {},
     "output_type": "execute_result"
    }
   ],
   "source": [
    "import pip\n",
    "pip.main([\"install\",\"matplotlib\"])"
   ]
  },
  {
   "cell_type": "code",
   "execution_count": 64,
   "id": "abad51e3-4a0e-454b-9b87-88416a0ec414",
   "metadata": {},
   "outputs": [],
   "source": [
    "import matplotlib.pyplot as plt"
   ]
  },
  {
   "cell_type": "code",
   "execution_count": 65,
   "id": "607602ae-5855-4766-9e76-1df481a709f1",
   "metadata": {},
   "outputs": [],
   "source": [
    "import pandas as pd"
   ]
  },
  {
   "cell_type": "code",
   "execution_count": 66,
   "id": "1483e896-bfc0-400c-96f6-ad4241e766c2",
   "metadata": {},
   "outputs": [],
   "source": [
    "x = df_plot.toPandas()[\"card_type\"].values.tolist()\n",
    "y = df_plot.toPandas()[\"sum(Total_Purchase)\"].values.tolist()"
   ]
  },
  {
   "cell_type": "code",
   "execution_count": 67,
   "id": "221977ef-2722-4ca6-8abb-900acfaf5f34",
   "metadata": {},
   "outputs": [
    {
     "data": {
      "text/plain": [
       "Text(0, 0.5, 'Purchase value')"
      ]
     },
     "execution_count": 67,
     "metadata": {},
     "output_type": "execute_result"
    },
    {
     "data": {
      "image/png": "[encoded data removed]",
      "text/plain": [
       "<Figure size 432x288 with 1 Axes>"
      ]
     },
     "metadata": {
      "needs_background": "light"
     },
     "output_type": "display_data"
    }
   ],
   "source": [
    "plt.bar(x,y,color = ['red','green','blue'])\n",
    "plt.title(\"card rank based on User's purchase value\")\n",
    "plt.xlabel(\"Card Type\")\n",
    "plt.ylabel(\"Purchase value\")"
   ]
  },
  {
   "cell_type": "code",
   "execution_count": null,
   "id": "2edc5f08-e4c5-447e-9af9-c8c6b6883207",
   "metadata": {},
   "outputs": [],
   "source": []
  }
 ],
 "metadata": {
  "kernelspec": {
   "display_name": "Python 3 (ipykernel)",
   "language": "python",
   "name": "python3"
  },
  "language_info": {
   "codemirror_mode": {
    "name": "ipython",
    "version": 3
   },
   "file_extension": ".py",
   "mimetype": "text/x-python",
   "name": "python",
   "nbconvert_exporter": "python",
   "pygments_lexer": "ipython3",
   "version": "3.7.10"
  }
 },
 "nbformat": 4,
 "nbformat_minor": 5
}
